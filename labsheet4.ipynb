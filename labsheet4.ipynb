{
  "nbformat": 4,
  "nbformat_minor": 0,
  "metadata": {
    "colab": {
      "name": "NLP4.ipynb",
      "provenance": [],
      "collapsed_sections": []
    },
    "kernelspec": {
      "name": "python3",
      "display_name": "Python 3"
    }
  },
  "cells": [
    {
      "cell_type": "code",
      "metadata": {
        "id": "AoV-EzXdWPBu"
      },
      "source": [
        "import requests \n",
        "from bs4 import BeautifulSoup "
      ],
      "execution_count": null,
      "outputs": []
    },
    {
      "cell_type": "code",
      "metadata": {
        "id": "qc7k-GsnYyIt",
        "outputId": "a8c697ed-f6b7-46bd-8a98-4ae86fec36bf",
        "colab": {
          "base_uri": "https://localhost:8080/",
          "height": 1000
        }
      },
      "source": [
        "url = 'https://www.who.int/emergencies/diseases/novel-coronavirus-2019/question-and-answers-hub/q-a-detail/q-a-coronaviruses#:~:text=symptoms'\n",
        "\n",
        "response = requests.get(url)\n",
        "content = BeautifulSoup(response.content)\n",
        "\n",
        "#print(content)\n",
        "x = ''\n",
        "for cont in content.findAll('div', attrs={\"class\":\"sf-accordion__content\"}):\n",
        "    print(cont)\n"
      ],
      "execution_count": null,
      "outputs": [
        {
          "output_type": "stream",
          "text": [
            "<div class=\"sf-accordion__content\">\n",
            "<p class=\"sf-accordion__summary\">\n",
            "</p><p>COVID-19 is the infectious disease caused by the coronavirus, SARS-CoV-2, which is a respiratory pathogen. WHO first learned of this new virus from cases in Wuhan, People’s Republic of China on 31 December 2019.</p>\n",
            "</div>\n",
            "<div class=\"sf-accordion__content\">\n",
            "<p class=\"sf-accordion__summary\">\n",
            "</p><p>The most common symptoms of COVID-19 are</p><ul><li>Fever</li><li>Dry cough</li><li>Fatigue</li></ul><p>Other symptoms that are less common and may affect some patients include:</p><ul><li>Loss of taste or smell,</li><li>Nasal congestion,</li><li>Conjunctivitis (also known as red eyes)</li><li>Sore throat,</li><li>Headache,</li><li>Muscle or joint pain,</li><li>Different types of skin rash,</li><li>Nausea or vomiting,</li><li>Diarrhea,</li><li>Chills or dizziness.</li></ul><p>Symptoms are usually mild. Some people become infected but only have very mild symptoms or none at all.</p><p>Symptoms of severe COVID‐19 disease include:</p><ul><li>Shortness of breath,</li><li>Loss of appetite,</li><li>Confusion,</li><li>Persistent pain or pressure in the chest,</li><li>High temperature (above 38 °C).</li></ul><p>Other less common symptoms are:</p><ul><li>Irritability,</li><li>Confusion,</li><li>Reduced consciousness (sometimes associated with seizures),</li><li>Anxiety,</li><li>Depression,</li><li>Sleep disorders,</li><li>More severe and rare neurological complications such as strokes, brain inflammation, delirium and nerve damage.</li></ul><p>People of all ages who experience fever and/or cough associated with difficulty breathing or shortness of breath, chest pain or pressure, or loss of speech or movement should seek medical care immediately. If possible, call your health care provider,\n",
            "            hotline or health facility first, so you can be directed to the right clinic.</p>\n",
            "</div>\n",
            "<div class=\"sf-accordion__content\">\n",
            "<p class=\"sf-accordion__summary\">\n",
            "</p><p>Most people (about 80%) recover from the disease without needing hospital treatment. About 20% of those who get COVID-19 become seriously ill and require oxygen, with 5% becoming critically ill and needing intensive care.</p><p>Complications leading to death may include respiratory failure, acute respiratory distress syndrome (ARDS), sepsis and septic shock, thromboembolism, and/or multiorgan failure, including injury of the heart, liver or kidneys.</p><p>In rare situations, children can develop a severe inflammatory syndrome a few weeks after infection.</p>\n",
            "</div>\n",
            "<div class=\"sf-accordion__content\">\n",
            "<p class=\"sf-accordion__summary\">\n",
            "</p><p>People aged 60 and over, and those with underlying medical problems like high blood pressure, heart and lung problems, diabetes, obesity or cancer, are at higher risk of developing serious illness. </p><p>However, anyone can get sick with COVID-19 and become seriously ill or die at any age. </p>\n",
            "</div>\n",
            "<div class=\"sf-accordion__content\">\n",
            "<p class=\"sf-accordion__summary\">\n",
            "</p><p>Stay safe by taking some simple precautions, such as physical distancing, wearing a mask, keeping rooms well ventilated, avoiding crowds, cleaning your hands, and coughing into a bent elbow or tissue. Check local advice where you live and work. <strong>Do it all!</strong></p><p><em>Read our <a href=\"/emergencies/diseases/novel-coronavirus-2019/advice-for-public\">public advice page</a> for more information.</em></p>\n",
            "</div>\n",
            "<div class=\"sf-accordion__content\">\n",
            "<p class=\"sf-accordion__summary\">\n",
            "</p><p>Anyone with symptoms should be tested, wherever possible. People who do not have symptoms but have had close contact with someone who is, or may be, infected may also consider testing – check with your local health guidelines. While a person is\n",
            "    waiting for test results, they should remain isolated from others. Where testing capacity is limited, tests should first be done for those at higher risk of infection, such as health workers, and those at higher risk of severe illness such as older\n",
            "    people, especially those living in seniors’ residences or long-term care facilities.</p>\n",
            "</div>\n",
            "<div class=\"sf-accordion__content\">\n",
            "<p class=\"sf-accordion__summary\">\n",
            "</p><p>In most situations, a molecular test is used to detect SARS-CoV-2 and confirm COVID-19. Polymerase chain reaction (PCR) is the most commonly used molecular test. Samples are collected from the nose and/or throat with a swab. Molecular tests detect\n",
            "    virus in the sample by amplifying viral genetic material to detectable levels. For this reason, a molecular test is used to confirm an active infection, usually within a few days of exposure and around the time that symptoms may begin. </p>\n",
            "</div>\n",
            "<div class=\"sf-accordion__content\">\n",
            "<p class=\"sf-accordion__summary\">\n",
            "</p><p>Rapid tests (sometimes known as a rapid diagnostic test – RDT) detect viral proteins (known as antigens). Samples are collected from the nose and/or throat with a swab. These tests are cheaper than PCR and will offer results more quickly, although\n",
            "    they are generally less accurate. We are still learning about how well they perform and when to use them.</p>\n",
            "</div>\n",
            "<div class=\"sf-accordion__content\">\n",
            "<p class=\"sf-accordion__summary\">\n",
            "</p><p>Antibody tests can tell us whether someone has had an infection in the past, even if they have not had symptoms. Also known as serological tests and usually done on a blood sample, these tests detect antibodies produced in response to an infection. In\n",
            "    most people, antibodies start to develop after days to weeks and can indicate if a person has had recent (IgM type antibodies) or past infection (IgG type). Antibody tests cannot be used to diagnose COVID-19 in the early stages of infection or disease.\n",
            "    They also cannot alone confirm immunity or duration of protection from reinfection.</p>\n",
            "</div>\n",
            "<div class=\"sf-accordion__content\">\n",
            "<p class=\"sf-accordion__summary\">\n",
            "</p><p>Both isolation and quarantine are methods of preventing the spread of the disease.</p><p><strong>Quarantine</strong> means restricting activities and/or separating people who are not ill but may have been exposed to COVID-19. The quarantine can take place in a designated facility or at home for 14 days.</p><p><strong>Isolation</strong> means separating people who are ill with symptoms of COVID-19 and/or have tested positive.</p>\n",
            "</div>\n",
            "<div class=\"sf-accordion__content\">\n",
            "<p class=\"sf-accordion__summary\">\n",
            "</p><p>If you have been exposed to someone with COVID-19, you may become infected, even if you feel well.</p><p>After exposure to someone who has COVID-19, do the following:</p><ul><li>Call your health care provider or COVID-19 hotline to find out where and when to get a test.</li><li>Cooperate with contact-tracing procedures to stop the spread of the virus.</li><li>If testing is not available, stay home and away from others for 14 days.</li><li>During this time, do not go to work, to school or to public places. Ask someone to bring you supplies.</li><li>Keep at least a 1-metre distance from others, even from your family members.</li><li>Wear a medical mask to protect others, including if/when you need to seek medical care.</li><li>Clean your hands frequently.</li><li>Stay in a separate room from other family members, and if not possible, wear a medical mask.</li><li>Keep the room well-ventilated.</li><li>If you share a room, place beds at least 1 metre apart.</li><li>Monitor yourself for any symptoms for 14 days. </li><li>Stay positive by keeping in touch with loved ones by phone or online, and by exercising at home.    </li></ul><p>If you live in an area with malaria or dengue fever, seek medical help if you have a fever. While travelling to and from the health facility and during medical care, wear a mask, keep at least a 1-metre distance from other people and avoid touching\n",
            "            surfaces with your hands. This applies to adults and children. </p><p><em>Read our </em><a href=\"/emergencies/diseases/novel-coronavirus-2019/question-and-answers-hub/q-a-detail/malaria-and-the-covid-19-pandemic\"><em>malaria and COVID-19 Q&amp;A</em></a><em> for more information.</em></p>\n",
            "</div>\n",
            "<div class=\"sf-accordion__content\">\n",
            "<p class=\"sf-accordion__summary\">\n",
            "</p><p>The time from exposure to COVID-19 to the moment when symptoms begin is, on average, 5-6 days and can range from 1-14 days. This is why people who have been exposed to the virus are advised to stay home, apart from others, for 14 days, in order to prevent\n",
            "    the spread of the virus, especially where testing is not easily available.</p>\n",
            "</div>\n",
            "<div class=\"sf-accordion__content\">\n",
            "<p class=\"sf-accordion__summary\">\n",
            "</p><p>If you have any symptoms suggestive of COVID-19, contact your health care provider or COVID-19 hotline for instructions and find out when and where to get a test, stay at home for 14 days away from others and monitor your health.</p><p>If you have shortness of breath or pain or pressure in the chest, seek medical attention immediately. Call your health care provider or hotline in advance for direction to the right health facility.</p><p>If you live in an area with malaria or dengue fever, seek medical care if you have a fever.</p><p>If local guidance recommends visiting a medical centre for testing, assessment or isolation, wear a medical mask while travelling to and from the facility and during medical care. Also keep at least a 1-metre distance from other people and avoid\n",
            "    touching surfaces with your hands.  This applies to adults and children.</p>\n",
            "</div>\n",
            "<div class=\"sf-accordion__content\">\n",
            "<p class=\"sf-accordion__summary\">\n",
            "</p><p>Not yet. <a href=\"/publications/m/item/draft-landscape-of-covid-19-candidate-vaccines\">Many potential vaccines for COVID-19 are being studied</a>, and several large clinical trials may report results later this year. If a vaccine is\n",
            "    proven safe and effective, it must be approved by national regulators, manufactured, and distributed. WHO is working with partners around the world to help coordinate key steps in this process. WHO is working through the <a href=\"/initiatives/act-accelerator\">ACT-Accelerator</a> to facilitate equitable access to a safe and effective vaccine for the billions of people who will need it, once it is available. More information about COVID-19 vaccine development is available <a href=\"/emergencies/diseases/novel-coronavirus-2019/covid-19-vaccines\">here</a>.</p>\n",
            "</div>\n",
            "<div class=\"sf-accordion__content\">\n",
            "<p class=\"sf-accordion__summary\">\n",
            "</p><p>Scientists around the world are working to find and develop treatments for COVID-19.</p><p>Optimal supportive care includes oxygen for severely ill patients and those who are at risk for severe disease and more advanced respiratory support such as ventilation for patients who are critically ill.</p><p>Dexamethasone is a corticosteroid that can help reduce the length of time on a ventilator and save lives of patients with severe and critical illness. <em>Read our <a href=\"/emergencies/diseases/novel-coronavirus-2019/question-and-answers-hub/q-a-detail/q-a-dexamethasone-and-covid-19\">dexamethasone Q&amp;A</a> for more information.</em></p><p>Results from the WHO’s Solidarity Trial <a href=\"/news/item/15-10-2020-solidarity-therapeutics-trial-produces-conclusive-evidence-on-the-effectiveness-of-repurposed-drugs-for-covid-19-in-record-time\">indicated</a> that remdesivir,\n",
            "    hydroxychloroquine, lopinavir/ritonavir and interferon regimens appeared to have little or no effect on 28-day mortality or the in-hospital course of COVID-19 among hospitalized patients.</p><p>Hydroxychloroquine has not been shown to offer any benefit for treatment of COVID-19. <em>Read our <a href=\"/emergencies/diseases/novel-coronavirus-2019/question-and-answers-hub/q-a-detail/q-a-hydroxychloroquine-and-covid-19\">hydroxychloroquine Q&amp;A</a> for more information.</em></p><p>WHO does not recommend self-medication with any medicines, including antibiotics, as a prevention or cure for COVID-19. WHO is coordinating efforts to develop treatments for COVID-19 and will continue to provide new information as it becomes available.</p>\n",
            "</div>\n",
            "<div class=\"sf-accordion__content\">\n",
            "<p class=\"sf-accordion__summary\">\n",
            "</p><p>Antibiotics do not work against viruses; they only work on bacterial infections. COVID-19 is caused by a virus, so antibiotics do not work. Antibiotics should not be used as a means of prevention or treatment of COVID-19.</p><p>In hospitals, physicians will sometimes use antibiotics to prevent or treat secondary bacterial infections which can be a complication of COVID-19 in severely ill patients. They should only be used as directed by a physician to treat a bacterial infection.</p>\n",
            "</div>\n"
          ],
          "name": "stdout"
        }
      ]
    },
    {
      "cell_type": "code",
      "metadata": {
        "id": "2YQg5gFOd83t",
        "outputId": "3c566bdc-8fb8-4756-8dd8-1a1cc5132bb8",
        "colab": {
          "base_uri": "https://localhost:8080/",
          "height": 105
        }
      },
      "source": [
        "cleantext = BeautifulSoup(str(cont), \"html.parser\").text\n",
        "print(cleantext)"
      ],
      "execution_count": null,
      "outputs": [
        {
          "output_type": "stream",
          "text": [
            "\n",
            "\n",
            "Antibiotics do not work against viruses; they only work on bacterial infections. COVID-19 is caused by a virus, so antibiotics do not work. Antibiotics should not be used as a means of prevention or treatment of COVID-19.In hospitals, physicians will sometimes use antibiotics to prevent or treat secondary bacterial infections which can be a complication of COVID-19 in severely ill patients. They should only be used as directed by a physician to treat a bacterial infection.\n",
            "\n"
          ],
          "name": "stdout"
        }
      ]
    },
    {
      "cell_type": "code",
      "metadata": {
        "id": "f3e9eNaCg1BB",
        "outputId": "af6b98ef-a0dd-4ac5-b63c-5d8a7718423d",
        "colab": {
          "base_uri": "https://localhost:8080/",
          "height": 272
        }
      },
      "source": [
        "import nltk\n",
        "from nltk.corpus import stopwords\n",
        "from nltk.stem.porter import PorterStemmer\n",
        "from nltk.tokenize import RegexpTokenizer\n",
        "from nltk.corpus import webtext\n",
        "from nltk.probability import FreqDist\n",
        "from nltk.stem.wordnet import WordNetLemmatizer\n",
        "nltk.download('stopwords')\n",
        "nltk.download('wordnet')\n",
        "nltk.download('averaged_perceptron_tagger')\n",
        "nltk.download('punkt')\n",
        "nltk.download('framenet_v17')\n",
        "nltk.download('propbank')"
      ],
      "execution_count": null,
      "outputs": [
        {
          "output_type": "stream",
          "text": [
            "[nltk_data] Downloading package stopwords to /root/nltk_data...\n",
            "[nltk_data]   Package stopwords is already up-to-date!\n",
            "[nltk_data] Downloading package wordnet to /root/nltk_data...\n",
            "[nltk_data]   Package wordnet is already up-to-date!\n",
            "[nltk_data] Downloading package averaged_perceptron_tagger to\n",
            "[nltk_data]     /root/nltk_data...\n",
            "[nltk_data]   Package averaged_perceptron_tagger is already up-to-\n",
            "[nltk_data]       date!\n",
            "[nltk_data] Downloading package punkt to /root/nltk_data...\n",
            "[nltk_data]   Package punkt is already up-to-date!\n",
            "[nltk_data] Downloading package framenet_v17 to /root/nltk_data...\n",
            "[nltk_data]   Package framenet_v17 is already up-to-date!\n",
            "[nltk_data] Downloading package propbank to /root/nltk_data...\n",
            "[nltk_data]   Package propbank is already up-to-date!\n"
          ],
          "name": "stdout"
        },
        {
          "output_type": "execute_result",
          "data": {
            "text/plain": [
              "True"
            ]
          },
          "metadata": {
            "tags": []
          },
          "execution_count": 70
        }
      ]
    },
    {
      "cell_type": "code",
      "metadata": {
        "id": "VDs1QkWognPX"
      },
      "source": [
        "text = str(cleantext)\n",
        "import nltk\n",
        "stop_words = set(stopwords.words(\"english\"))"
      ],
      "execution_count": null,
      "outputs": []
    },
    {
      "cell_type": "code",
      "metadata": {
        "id": "phAbmuqsg6vv",
        "outputId": "0d689311-e534-4933-8b71-ac6f3858c95a",
        "colab": {
          "base_uri": "https://localhost:8080/",
          "height": 71
        }
      },
      "source": [
        "import json\n",
        "import re\n",
        "corpus = []\n",
        "text = str(text).lower()\n",
        "text = re.sub(\"&lt;/?.*?&gt;\",\" &lt;&gt; \",text)\n",
        "text = re.sub(\"(\\\\d|\\\\W)+\",\" \",text)\n",
        "text = text.split()\n",
        "ps = PorterStemmer()\n",
        "lem = WordNetLemmatizer()\n",
        "text = [lem.lemmatize(word) for word in text if not word in stop_words] \n",
        "text = \" \".join(text)\n",
        "corpus.append(text)\n",
        "print(\"Cleaned Corpus\")\n",
        "print(corpus)"
      ],
      "execution_count": null,
      "outputs": [
        {
          "output_type": "stream",
          "text": [
            "Cleaned Corpus\n",
            "['antibiotic work virus work bacterial infection covid caused virus antibiotic work antibiotic used mean prevention treatment covid hospital physician sometimes use antibiotic prevent treat secondary bacterial infection complication covid severely ill patient used directed physician treat bacterial infection']\n"
          ],
          "name": "stdout"
        }
      ]
    },
    {
      "cell_type": "code",
      "metadata": {
        "id": "lgmw--G1hgx5",
        "outputId": "cf62b8d1-5ac5-4c1c-8073-7f23c7496e59",
        "colab": {
          "base_uri": "https://localhost:8080/",
          "height": 71
        }
      },
      "source": [
        "from nltk.probability import FreqDist\n",
        "from nltk.tokenize import word_tokenize\n",
        "\n",
        "fdist = FreqDist()\n",
        "for word in word_tokenize(text):\n",
        "  fdist[word.lower()] += 1\n",
        "\n",
        "print(\"The 10 most important words of the corpus are:\")\n",
        "\n",
        "most_imp = fdist.most_common(15)\n",
        "print(most_imp)"
      ],
      "execution_count": null,
      "outputs": [
        {
          "output_type": "stream",
          "text": [
            "The 10 most important words of the corpus are:\n",
            "[('antibiotic', 4), ('work', 3), ('bacterial', 3), ('infection', 3), ('covid', 3), ('virus', 2), ('used', 2), ('physician', 2), ('treat', 2), ('caused', 1), ('mean', 1), ('prevention', 1), ('treatment', 1), ('hospital', 1), ('sometimes', 1)]\n"
          ],
          "name": "stdout"
        }
      ]
    },
    {
      "cell_type": "code",
      "metadata": {
        "id": "fOeonmCHhnMy",
        "outputId": "503398e6-2382-4b8f-f2e1-26cbddd781dc",
        "colab": {
          "base_uri": "https://localhost:8080/",
          "height": 272
        }
      },
      "source": [
        "from pprint import pprint\n",
        "from nltk.corpus import framenet as fn\n",
        "\n",
        "for i in most_imp:\n",
        "  pprint(fn.lus(i[0]))"
      ],
      "execution_count": null,
      "outputs": [
        {
          "output_type": "stream",
          "text": [
            "[]\n",
            "[<lu ID=18729 name=co-worker.n>, <lu ID=14349 name=groundwork.n>, ...]\n",
            "[<lu ID=4809 name=bacterial meningitis.n>]\n",
            "[<lu ID=4386 name=infection.n>]\n",
            "[]\n",
            "[]\n",
            "[<lu ID=8778 name=amused.a>, <lu ID=7212 name=aroused.a>, ...]\n",
            "[<lu ID=4561 name=physician.n>]\n",
            "[<lu ID=646 name=entreat.v>, <lu ID=647 name=entreaty.n>, ...]\n",
            "[]\n",
            "[<lu ID=12535 name=demeanor.n>, <lu ID=6549 name=mean.a>, ...]\n",
            "[<lu ID=8174 name=prevention.n>]\n",
            "[<lu ID=13461 name=maltreatment.n>, <lu ID=906 name=treatment.n>, ...]\n",
            "[<lu ID=3013 name=hospital.n>, <lu ID=14470 name=hospitality.n>, ...]\n",
            "[<lu ID=14109 name=sometimes.adv>]\n"
          ],
          "name": "stdout"
        }
      ]
    },
    {
      "cell_type": "code",
      "metadata": {
        "id": "ZPfDe7c0hw5_",
        "outputId": "e920e0e6-49b8-4ab2-e963-323697c123bb",
        "colab": {
          "base_uri": "https://localhost:8080/",
          "height": 272
        }
      },
      "source": [
        "from pprint import pprint\n",
        "from nltk.corpus import framenet as fn\n",
        "\n",
        "for i in most_imp:\n",
        "  pprint(fn.frames(rf'(?i){str(i[0])}'))"
      ],
      "execution_count": null,
      "outputs": [
        {
          "output_type": "stream",
          "text": [
            "[]\n",
            "[<frame ID=1658 name=Create_physical_artwork>, <frame ID=1611 name=Network>, ...]\n",
            "[]\n",
            "[]\n",
            "[]\n",
            "[]\n",
            "[<frame ID=181 name=Activity_paused_state>, <frame ID=2303 name=Container_focused_placing>, ...]\n",
            "[]\n",
            "[<frame ID=2770 name=Treating_and_mistreating>]\n",
            "[<frame ID=350 name=Corroding_caused>]\n",
            "[<frame ID=2132 name=Attempt_means>, <frame ID=242 name=Communication_means>, ...]\n",
            "[]\n",
            "[]\n",
            "[<frame ID=1970 name=Hospitality>]\n",
            "[]\n"
          ],
          "name": "stdout"
        }
      ]
    },
    {
      "cell_type": "code",
      "metadata": {
        "id": "tH2TcNkbh1EA",
        "outputId": "421feb2b-14a6-4bc2-c57c-b8f092687e76",
        "colab": {
          "base_uri": "https://localhost:8080/",
          "height": 292
        }
      },
      "source": [
        "from nltk.corpus import wordnet as wn\n",
        "\n",
        "for i in most_imp:\n",
        "  print(wn.synsets(str(i[0])))"
      ],
      "execution_count": null,
      "outputs": [
        {
          "output_type": "stream",
          "text": [
            "[Synset('antibiotic.n.01'), Synset('antibiotic.a.01')]\n",
            "[Synset('work.n.01'), Synset('work.n.02'), Synset('employment.n.02'), Synset('study.n.02'), Synset('work.n.05'), Synset('workplace.n.01'), Synset('oeuvre.n.01'), Synset('work.v.01'), Synset('work.v.02'), Synset('work.v.03'), Synset('function.v.01'), Synset('work.v.05'), Synset('exercise.v.03'), Synset('make.v.36'), Synset('work.v.08'), Synset('work.v.09'), Synset('work.v.10'), Synset('bring.v.03'), Synset('work.v.12'), Synset('cultivate.v.02'), Synset('work.v.14'), Synset('influence.v.01'), Synset('work.v.16'), Synset('work.v.17'), Synset('work.v.18'), Synset('work.v.19'), Synset('shape.v.02'), Synset('work.v.21'), Synset('knead.v.01'), Synset('exploit.v.01'), Synset('solve.v.01'), Synset('ferment.v.03'), Synset('sour.v.01'), Synset('work.v.27')]\n",
            "[Synset('bacterial.a.01')]\n",
            "[Synset('infection.n.01'), Synset('infection.n.02'), Synset('infection.n.03'), Synset('infection.n.04'), Synset('contagion.n.03'), Synset('infection.n.06'), Synset('infection.n.07')]\n",
            "[]\n",
            "[Synset('virus.n.01'), Synset('virus.n.02'), Synset('virus.n.03')]\n",
            "[Synset('use.v.01'), Synset('use.v.02'), Synset('use.v.03'), Synset('use.v.04'), Synset('practice.v.04'), Synset('use.v.06'), Synset('used.a.01'), Synset('exploited.s.02'), Synset('secondhand.s.02')]\n",
            "[Synset('doctor.n.01')]\n",
            "[Synset('dainty.n.01'), Synset('treat.n.02'), Synset('treat.v.01'), Synset('process.v.01'), Synset('treat.v.03'), Synset('cover.v.05'), Synset('treat.v.05'), Synset('regale.v.01'), Synset('treat.v.07'), Synset('treat.v.08')]\n",
            "[Synset('cause.v.01'), Synset('induce.v.02')]\n",
            "[Synset('mean.n.01'), Synset('mean.v.01'), Synset('entail.v.01'), Synset('mean.v.03'), Synset('intend.v.01'), Synset('mean.v.05'), Synset('think_of.v.04'), Synset('mean.v.07'), Synset('average.s.01'), Synset('hateful.s.02'), Synset('base.s.05'), Synset('mean.s.04'), Synset('beggarly.s.01'), Synset('mean.s.06'), Synset('beggarly.s.02'), Synset('bastardly.s.02')]\n",
            "[Synset('prevention.n.01')]\n",
            "[Synset('treatment.n.01'), Synset('treatment.n.02'), Synset('treatment.n.03'), Synset('discussion.n.01')]\n",
            "[Synset('hospital.n.01'), Synset('hospital.n.02')]\n",
            "[Synset('sometimes.r.01')]\n"
          ],
          "name": "stdout"
        }
      ]
    },
    {
      "cell_type": "code",
      "metadata": {
        "id": "Kv4Po3cdh28C",
        "outputId": "155b96e3-c503-412a-db3c-1b92e62c7a69",
        "colab": {
          "base_uri": "https://localhost:8080/",
          "height": 272
        }
      },
      "source": [
        "\n",
        "pos = []\n",
        "for i in most_imp:\n",
        "  pos.append(i[0])\n",
        "\n",
        "nltk.pos_tag(pos)"
      ],
      "execution_count": null,
      "outputs": [
        {
          "output_type": "execute_result",
          "data": {
            "text/plain": [
              "[('antibiotic', 'JJ'),\n",
              " ('work', 'NN'),\n",
              " ('bacterial', 'JJ'),\n",
              " ('infection', 'NN'),\n",
              " ('covid', 'NN'),\n",
              " ('virus', 'NN'),\n",
              " ('used', 'VBN'),\n",
              " ('physician', 'JJ'),\n",
              " ('treat', 'NN'),\n",
              " ('caused', 'VBD'),\n",
              " ('mean', 'JJ'),\n",
              " ('prevention', 'NN'),\n",
              " ('treatment', 'NN'),\n",
              " ('hospital', 'NN'),\n",
              " ('sometimes', 'RB')]"
            ]
          },
          "metadata": {
            "tags": []
          },
          "execution_count": 121
        }
      ]
    },
    {
      "cell_type": "code",
      "metadata": {
        "id": "33mwwZRPh6aJ",
        "outputId": "ab7be836-db38-4aaf-fe88-a2d570955b8d",
        "colab": {
          "base_uri": "https://localhost:8080/",
          "height": 34
        }
      },
      "source": [
        "from nltk.corpus import propbank\n",
        "\n",
        "pb_instances = propbank.instances()\n",
        "\n",
        "print(pb_instances)"
      ],
      "execution_count": null,
      "outputs": [
        {
          "output_type": "stream",
          "text": [
            "[<PropbankInstance: wsj_0001.mrg, sent 0, word 8>, <PropbankInstance: wsj_0001.mrg, sent 1, word 10>, ...]\n"
          ],
          "name": "stdout"
        }
      ]
    },
    {
      "cell_type": "code",
      "metadata": {
        "id": "aHCQBFPBiAHH",
        "outputId": "3a956bd7-2a0d-4799-ca31-ee91aee69ad6",
        "colab": {
          "base_uri": "https://localhost:8080/",
          "height": 34
        }
      },
      "source": [
        "mi = []\n",
        "for i in most_imp:\n",
        "  mi.append(i[0])\n",
        "\n",
        "x = len(pb_instances)\n",
        "df = set()\n",
        "\n",
        "for i in range(x):\n",
        "  if pb_instances[i].roleset[:-3] in mi:\n",
        "    df.add(pb_instances[i].tagger)\n",
        "\n",
        "df"
      ],
      "execution_count": null,
      "outputs": [
        {
          "output_type": "execute_result",
          "data": {
            "text/plain": [
              "{'gold'}"
            ]
          },
          "metadata": {
            "tags": []
          },
          "execution_count": 123
        }
      ]
    },
    {
      "cell_type": "code",
      "metadata": {
        "id": "lEI50rbqiBw_",
        "outputId": "5f6097e6-e5f1-4281-a322-a9edd65a365a",
        "colab": {
          "base_uri": "https://localhost:8080/",
          "height": 68
        }
      },
      "source": [
        "child_01 = propbank.roleset('seek.01')\n",
        "\n",
        "for role in child_01.findall(\"roles/role\"):\n",
        "  print(role.attrib['n'], role.attrib['descr'])"
      ],
      "execution_count": null,
      "outputs": [
        {
          "output_type": "stream",
          "text": [
            "0 Agent / entity seeking\n",
            "1 thing sought, attempted action\n",
            "2 sought-from\n"
          ],
          "name": "stdout"
        }
      ]
    },
    {
      "cell_type": "code",
      "metadata": {
        "id": "Ha3lNNe4iE7W",
        "outputId": "dd4ce4bd-5de0-4be9-ba8b-c157f93284b0",
        "colab": {
          "base_uri": "https://localhost:8080/",
          "height": 35
        }
      },
      "source": [
        "\n",
        "most_imp[4][0]"
      ],
      "execution_count": null,
      "outputs": [
        {
          "output_type": "execute_result",
          "data": {
            "application/vnd.google.colaboratory.intrinsic+json": {
              "type": "string"
            },
            "text/plain": [
              "'covid'"
            ]
          },
          "metadata": {
            "tags": []
          },
          "execution_count": 125
        }
      ]
    },
    {
      "cell_type": "code",
      "metadata": {
        "id": "EpxapF59iK4k",
        "outputId": "a1bcc339-0275-4679-f2cb-a64750e219dc",
        "colab": {
          "base_uri": "https://localhost:8080/",
          "height": 224
        }
      },
      "source": [
        " \n",
        "'''most_imp.pop(14)\n",
        "most_imp.pop(9)\n",
        "most_imp.pop(6)\n",
        "most_imp.pop(4)\n",
        "most_imp.pop(2)'''\n",
        "\n",
        "popped = [\"bacterial\"]\n",
        "\n",
        "from nltk.corpus import wordnet as wn\n",
        "\n",
        "for st in most_imp:\n",
        "  vehicle = wn.synset(st[0] + '.n.01')\n",
        "  hyp = list(set([w for s in vehicle.closure(lambda s:s.hyponyms()) for w in s.lemma_names()]))\n",
        "  print(st[0], hyp)\n",
        "\n",
        "for st in popped:\n",
        "  vehicle = wn.synset(st + '.a.01')\n",
        "  hyp = list(set([w for s in vehicle.closure(lambda s:s.hyponyms()) for w in s.lemma_names()]))\n",
        "  print(st[0], hyp)"
      ],
      "execution_count": null,
      "outputs": [
        {
          "output_type": "stream",
          "text": [
            "antibiotic ['penicillin_F', 'Claforan', 'neomycin', 'novobiocin', 'cephalexin', 'Augmentin', 'Fulvicin', 'tyrothricin', 'cefadroxil', 'kanamycin', 'cefuroxime', 'nafcillin', 'Keftab', 'penicillin_V_potassium', 'ciprofloxacin', 'cefotaxime', 'Polymox', 'cycloserine', 'Cefobid', 'Ilosone', 'oxacillin', 'antineoplastic_antibiotic', 'Aureomycin', 'Keflex', 'hydroxytetracycline', 'aztreonam', 'gramicidin', 'Ethril', 'polymyxin', 'penicillin', 'Erythrocin', 'methicillin', 'tobramycin', 'Azactam', 'cephaloridine', 'Vancocin', 'oxytetracycline', 'erythromycin', 'pyocyanin', 'Rocephin', 'streptothricin', 'penicillin_V', 'actinomycin', 'nystatin', 'Primaxin', 'penicillin_G', 'Zinacef', 'piperacillin', 'ampicillin', 'mithramycin', 'Keflin', 'doxorubicin', 'Principen', 'oxytetracycline_hydrochloride', 'penicillin_O', 'antimycin', 'pyocyanase', 'Kafocin', 'subtilin', 'cefoperazone', 'E-Mycin', 'bacitracin', 'Neobiotic', 'phenoxymethyl_penicillin', 'Ultracef', 'Pediamycin', 'vancomycin', 'Ledercillin_VK', 'mitomycin', 'benzylpenicillin', 'gentamicin', 'Nafcil', 'Larotid', 'Viocin', 'spectinomycin', 'dihydrostreptomycin', 'griseofulvin', 'Mycostatin', 'ceftazidime', 'penicillinase-resistant_antibiotic', 'Fortaz', 'Pipracil', 'Garamycin', 'Cipro', 'viomycin', 'Terramycin', 'carbomycin', 'Mutamycin', 'cephalosporin', 'cephalothin', 'chlortetracycline', 'ceftriaxone', 'tyrocidin', 'Mithracin', 'lincomycin', 'amoxicillin', 'Nystan', 'cephaloglycin', 'Ceftin', 'streptomycin', 'Kantrex', 'Tazicef', 'doxycycline', 'Polycillin', 'Nebcin', 'Lincocin', 'fradicin', 'Chloromycetin', 'Mefoxin', 'SK-Ampicillin', 'chloramphenicol', 'amphotericin', 'mycomycin', 'tyrocidine', 'Amoxil', 'Trimox', 'Vibramycin']\n",
            "work ['wiring', 'urinalysis', 'haymaking', 'feminism', 'risky_venture', 'galvanism', 'insulin_shock_therapy', 'diathermy', 'pull', 'workout', 'covering', 'yoga', 'orthodontic_treatment', 'nursing_care', 'picking', 'foliation', 'research', 'watch', 'school_assignment', 'numeration', 'radiocarbon_dating', 'planking', 'trial_and_error', 'least_resistance', 'hospice', 'crisis_intervention', 'stalk', 'attestation_report', 'trade', 'the_devil', 'bodywork', 'endeavor', 'straddle', 'ESR', 'shore_duty', 'barium_enema', 'wash', 'exercise', 'intramuscular_injection', 'market_analysis', 'loose_end', 'chance', 'apheresis', 'written_assignment', 'spatter', 'play_therapy', 'electronic_surveillance', 'front-porch_campaign', 'insulin_shock', 'skin_care', 'splash', 'sentry_duty', 'waxing', 'sales_campaign', 'labor', 'land-office_business', 'administration', 'financial_audit', 'electioneering', 'potassium-argon_dating', 'calisthenics', 'mission_impossible', 'corvee', 'bloodletting', 'housewifery', 'market_research', \"women's_liberation_movement\", 'spray_painting', 'portfolio', 'lavage', 'sponge_bath', 'lubrication', 'hackwork', 'therapeutic_cloning', 'tally', 'escapade', 'duty_assignment', 'job', 'business', 'walkover', 'sedation', 'welfare_work', 'wrestle', 'tiling', 'follow-up', 'painting', 'jogging', 'chiropractic', 'teasing', 'fix', 'schoolwork', 'busywork', 'ablution', 'aftercare', 'sigmoidoscopy', 'fatigue', 'inflation_therapy', 'intensive_care', 'exercise_set', 'reciprocal_inhibition', 'nose_count', 'tactual_exploration', 'window-washing', 'implosion_therapy', 'enema', 'speech_therapy', 'jerk', 'autogenic_training', 'materials_handling', 'immunotherapy', 'colonic', 'reexamination', 'foreign_direct_investment', 'pheresis', 'antipyresis', 'CBC', 'post-mortem', 'thrombolytic_therapy', 'cost_analysis', 'irradiation', 'gamble', 'forlorn_hope', 'medical_care', 'ball-breaker', 'phytotherapy', 'timework', 'digitalization', 'cloning', 'first_aid', 'long_shot', 'rubdown', 'shock_treatment', 'audit', 'differential_blood_count', 'leg_exercise', 'electrotherapy', 'desensitization_technique', 'enterprise', 'physical_therapy', 'stretch', 'intradermal_injection', 'autopsy', 'kip', 'attention', 'search', 'dip', 'finger-painting', 'sperm_count', 'musclebuilding', 'sally', 'commercial_activity', 'unloading', 'continuous_receiver_watch', 'group_psychotherapy', 'tree_surgery', 'nourishment', 'paving', 'maternalism', 'straight_hang', 'grind', 'electrical_healing', 'scientific_research', 'insolation', 'business_activity', 'nuclear_transplantation', 'confrontation', 'hand-to-hand_struggle', 'spadework', 'least_effort', 'radiation', 'listening_watch', 'desensitization_procedure', 'double_leg_circle', 'digitalisation', 'surveillance_of_disease', 'arm_exercise', 'brush', 'hair_care', 'heart_massage', 'psychotherapy', 'drive', 'acupressure', 'plating', 'radiotherapy', 'physical_exercise', 'widegrip_pushup', 'topical_prostaglandin_eyedrop', 'plodding', 'leg_extensor', 'dissection', 'bent_hang', 'thermogravimetry', 'medical_aid', 'cause', 'campaign', 'plasmapheresis', 'effleurage', 'douche', 'ionic_medication', 'assertiveness_training', 'paperwork', 'homeopathy', 'predation', 'snatch', 'duck_soup', 'family_therapy', 'political_campaign', 'gay_liberation_movement', 'fumigation', 'inunction', 'feminist_movement', 'bandaging', 'dangerous_undertaking', 'stretching', 'tending', 'handling', 'plastering', 'consulting_service', 'picnic', 'history_lesson', 'eleven-plus', 'field_work', 'radiation_therapy', 'group_therapy', 'anaerobic_exercise', 'naturopathy', 'collation', 'anti-war_movement', 'dark_ground_illumination', 'effort', 'binding', 'charm_campaign', 'volumetric_analysis', 'lieu', 'followup', 'tabulation', 'necropsy', 'haemodialysis', 'depth_psychology', 'baby_sitting', 'commission', 'eye-drop', 'bathing', 'geological_dating', 'babbitting', 'position', 'rehabilitation', 'primary_care', 'shining', 'X-ray_therapy', 'housekeeping', 'shiatsu', 'sacrifice_operation', 'consumer_research', 'unfinished_business', 'comb', 'TLC', 'facing', 'fund-raising_drive', 'heavy_lifting', 'tummy_crunch', 'danger', 'manicure', 'nursing', 'grapple', 'testing', 'power_walking', 'quantitative_analysis', 'ball-buster', 'polishing', 'G-Jo', 'doddle', 'hypnotherapy', 'war', 'overwork', 'marketing_research', 'substituting', 'physiatrics', 'correction', 'dental_care', 'giving_medication', 'crusade', 'chore', 'fatigue_duty', 'deerstalking', 'empiricism', 'endurance_contest', 'census', 'detection', 'cardiac_massage', 'hairweaving', 'medical_exam', 'procedure', 'ECT', 'classwork', 'candidacy', 'galvanization', 'ad_blitz', 'missionary_work', 'quantitative_chemical_analysis', 'spectrum_analysis', 'squat', 'resurvey', 'hatha_yoga', 'insulin_shock_treatment', 'mikvah', 'HRT', 'vapour_bath', 'charge', 'strain', 'illegitimate_enterprise', 'babysitting', 'celioscopy', 'massage', 'roundup', 'galvanisation', 'time-and-motion_study', 'gonioscopy', 'operation', 'technical_analysis', 'health_care', 'scissors', 'fluorescence_microscopy', 'breeze', 'comparison', 'trouble', 'faith_cure', 'squatting', 'fine-tooth_comb', 'soak', 'raise', 'refrigeration', 'campaigning', 'electron_paramagnetic_resonance', 'analysis', 'irrigation', 'cupping', 'hang', 'friction', 'movement', 'elbow_grease', 'knee_bend', 'shower_bath', 'capacity', 'secondment', 'joint_venture', 'function', 'clyster', 'investigating', 'botanical_medicine', 'facial', 'stint', 'flooding', 'reading_assignment', 'defibrillation', 'phototherapy', 'weightlift', 'post-mortem_examination', 'upstart', 'phlebotomy', 'shoeshine', 'assignment', 'acupuncture', 'reflexology', 'uranalysis', 'ballottement', 'cardiopulmonary_exercise', 'suicide_mission', 'acidimetry', 'inquest', 'spinal_fusion', 'Kegel_exercises', 'sit-up', 'crapshoot', 'dishwashing', 'radium_therapy', 'exertion', 'keratoscopy', 'hospitalization', 'logging', 'hormone_replacement_therapy', 'travail', 'anatomy', 'chemical_analysis', 'homoeopathy', 'electric_healing', 'subbing', 'aerobic_exercise', 'haircare', 'preparation', 'callisthenics', 'pubococcygeus_exercises', 'fomentation', 'manual_labour', 'fundamentals_analysis', 'culdoscopy', 'postmortem', 'PM', 'Swedish_massage', 'stakeout', 'enumeration', 'wrestling', 'megavitamin_therapy', 'toil', 'hustings', 'splashing', 'counting', 'military_press', 'grappling', 'genetic_screening', 'holistic_medicine', \"women's_lib\", 'examination', 'shitwork', 'supererogation', 'colorimetry', 'public-relations_campaign', 'anticoagulation', 'police_investigation', 'work_study', 'contrast', 'isometric_exercise', 'task', 'recount', 'colonoscopy', 'aversion_therapy', 'lesson', 'scut_work', 'autogenics', 'muscle_building', 'high_colonic', 'baby', 'EMDA', 'venture', 'gravimetric_analysis', 'bubble_bath', 'set', 'sallying_forth', 'hysteroscopy', 'aid', 'anointing', 'leg_curling', 'snap', 'homework', 'pargeting', 'hydrotherapy', 'tapotement', 'look-over', 'means_test', 'inspection', 'fusion', 'livery', 'classroom_project', 'facility', 'rhinoscopy', 'stem-cell_research', 'clean', 'mission', 'leg_curl', 'check-out_procedure', 'pet_sitting', 'subcutaneous_injection', 'mud_bath', 'reform', 'action', 'bodybuilding', 'slavery', 'desensitisation_technique', 'postmortem_examination', 'technical_analysis_of_stock_trends', 'rubidium-strontium_dating', 'role', 'plateletpheresis', 'herbal_therapy', 'electron_spin_resonance', 'second_fiddle', 'laying_on_of_hands', 'undertaking', 'time_and_motion_study', 'poll', 'spectrometry', 'exposure_therapy', 'guard_duty', 'somatic_cell_nuclear_transplantation', 'coating', 'systematic_desensitisation', 'miotic_eyedrop', 'scatology', 'biological_research', 'sentry_go', 'part', 'hydropathy', 'advertising_campaign', 'adrenergic_agonist_eyedrop', 'infrared_therapy', \"da'wah\", 'iontotherapy', 'metrazol_shock_therapy', 'custom', 'incline_bench_press', 'healthcare', 'hunting', 'casework', 'lost_cause', 'pavage', 'complete_blood_count', 'press', 'clean_and_jerk', 'exercising', 'therapy', 'iontophoresis', 'ophthalmoscopy', 'hospitalisation', 'checkup', 'inquiry', 'inverted_hang', 'duty', 'shower', 'diligence', 'shock_therapy', 'papering', 'metrazol_shock', 'rest-cure', 'peril', 'reverse_hang', 'desensitisation_procedure', 'labour', 'gay_lib', 'somatic_cell_nuclear_transfer', 'behavior_therapy', 'time-motion_study', 'ironing', 'shampoo', 'medical_checkup', 'behavior_modification', 'doubling', 'make-work', 'osteopathy', 'nurturance', 'office', 'polarography', 'reckoning', 'washup', 'tinning', 'sea-duty', 'motion_study', 'chemotherapy', 'carbon-14_dating', 'attestation_service', 'enquiry', 'drugging', 'national_service', 'once-over', 'patronage', 'place', 'canned_hunt', 'prep', 'rubbing', 'human_reproductive_cloning', 'soaking', 'fundamental_analysis', 'control_experiment', 'risk', 'skincare', 'double_Dutch', 'Turkish_bath', 'double', 'advisory_service', 'spectrographic_analysis', 'combing', 'palpation', 'medical_examination', 'vapor_bath', 'stomach_exercise', 'consumerism', 'medical', 'donkeywork', 'aromatherapy', 'roping', 'orthoptics', 'shot', 'heliotherapy', 'Michelson-Morley_experiment', \"child's_play\", 'long_fly', 'forensics', 'hormone-replacement_therapy', 'stylostixis', 'paperhanging', 'systematic_desensitization', 'big_science', 'health_check', 'lining', 'token_economy', 'unction', 'scumble', 'dark_field_illumination', 'endoscopy', 'grand_circle', 'time_study', 'personal_care', 'fund-raising_effort', 'tap', 'spectroscopic_analysis', 'blood_profile', 'drip_feed', 'adventure', 'manual_labor', 'spot_check', 'reassignment', 'comparing', 'probe', 'countdown', 'back_exercise', 'SCNT', 'marathon', 'fine-toothed_comb', 'hemodialysis', 'pandiculation', 'self-analysis', 'lever_hang', 'occupational_therapy', 'wiretap', 'steam_bath', 'example', 'spraying', 'washing', 'naprapathy', 'tin-plating', 'stead', 'flexible_sigmoidoscopy', 'case_study', 'isotonic_exercise', 'qualitative_analysis', 'carbon_dating', 'medication', 'titration', 'operations_research', 'brushing', 'electroshock_therapy', 'shipboard_duty', 'weightlifting', 'splattering', 'pushover', 'detective_work', 'allopathy', 'survey', 'social_work', 'steer_roping', 'chlorination', 'coursework', 'electron_microscopy', 'indirect_immunofluorescence', 'no-brainer', 'tsuris', 'jump_rope', 'hypnoanalysis', 'embryonic_stem-cell_research', 'reproductive_cloning', 'hunt', 'osteoclasis', 'isometrics', '11-plus', 'struggle', 'youth_crusade', 'labour_of_love', 'scrutiny', 'police_work', 'writing_assignment', 'overworking', 'modality', 'labor_of_love', 'gymnastic_exercise', 'product_research', 'overkill', 'electroconvulsive_therapy', 'research_project', 'housework', 'calf_roping', 'eyedrop', 'utility', 'sweat', 'spying', 'tall_order', 'bank_examination', 'project', 'racket', 'surveillance', 'social_service', 'chrysotherapy', 'drudgery', 'autogenic_therapy', 'hairdressing', 'piece_of_cake', 'thermotherapy', 'weight_gaining', 'bench_press', 'overexertion', 'blood_count', 'psychoanalysis', 'electroshock', 'scan', 'stumping', 'anointment', 'spattering', 'washing-up', 'handstand', 'hat', 'venesection', 'lavation', 'detrition', 'physical_exertion', 'beta_blocker_eyedrop', 'study', 'martyr_operation', 'whispering_campaign', 'attrition', 'aerobics', 'investigation', 'service', 'intervention', 'vigil', 'biomedical_cloning', 'dialysis', \"fool's_errand\", 'check', 'incubation', 'straining', 'injection', 'laundering', 'intravenous_injection', 'colorimetric_analysis', 'piked_reverse_hang', 'electromotive_drug_administration', 'pargetting', 'screening', 'hospital_care', 'miscount', 'gastric_lavage', 'review', 'bath', 'proctoscopy', 'loading', 'actinotherapy', 'experiment', 'chin-up', 'treatment', 'going-over', 'reciprocal-inhibition_therapy', 'sleuthing', 'nosecount', 'dating', 'physiotherapy', 'fraudulent_scheme', 'client-centered_therapy', 'care', 'microwave_spectroscopy', 'kick_up', 'youth_movement', 'tender_loving_care', 'dawah', 'detecting', 'service_abroad', 'petrissage', 'rinse', 'colonic_irrigation', 'ad_campaign', 'birdnesting', 'metrazol_shock_treatment', 'detoxification', 'spectroscopy', 'conditioner', 'microscopy', 'front-porch_campaigning', 'large_order', 'fund-raising_campaign', 'likening', 'experimentation', 'comb-out', 'faith_healing', 'difficulty', 'analogy', 'guard', 'candidature', 'stalking', 'crucifix', 'daubing', 'proposition', 'still_hunt', 'pull-up', 'mass_spectroscopy', 'alkalimetry', 'neck_exercise', 'gastroscopy', 'nightwork', 'Curietherapy', 'behalf', 'pedicure', 'cinch', 'application', 'disinfection', 'count', 'checkout', 'press-up', 'pushup', 'endeavour', 'dressing']\n",
            "infection ['opportunistic_infection', 'schistosomiasis', 'tetanus', 'vaccinia', 'Rift_Valley_fever', 'Ebola', 'fowl_cholera', 'paronychia', 'New_World_leishmaniasis', 'toxemia', 'viral_infection', 'kala_azar', 'leishmaniosis', 'viral_haemorrhagic_fever', 'toxaemia', 'Ebola_hemorrhagic_fever', 'blackwater_fever', 'herpangia', 'HIV', 'Marburg_disease', 'bilharzia', 'staphylococcal_infection', 'oriental_sore', 'chilblains', 'chancre', 'enterobiasis', 'Delhi_boil', 'pyemia', 'amoebic_dysentery', 'strep_throat', 'malaria', 'childbed_fever', 'shipping_pneumonia', 'scabies', 'dumdum_fever', 'Old_World_leishmaniasis', 'Ebola_fever', 'jungle_fever', 'whitlow', 'Lassa_fever', 'carbuncle', 'shipping_fever', 'pyaemia', 'respiratory_tract_infection', 'itch', 'hordeolum', 'protozoal_infection', 'throat_infection', 'septicaemia', 'suprainfection', 'superinfection', 'hemorrhagic_fever', 'trichomoniasis', 'boil', 'tapeworm_infection', 'lockjaw', 'aspergillosis', 'amoebiasis', 'saddle_sore', 'giardiasis', 'green_monkey_disease', 'cutaneous_leishmaniasis', 'Marburg_hemorrhagic_fever', 'suppurating_sore', 'blain', 'streptococcal_sore_throat', 'visceral_leishmaniasis', 'fester', 'amebic_dysentery', 'toxoplasmosis', 'nonsocial_infection', 'lower_respiratory_infection', 'Assam_fever', 'sepsis', 'septicemia', 'nasopharyngeal_leishmaniasis', 'cross_infection', 'vaccina', 'septic_sore_throat', 'kala-azar', 'viral_hemorrhagic_fever', 'gumboil', 'focal_infection', 'puerperal_fever', 'streptococcus_tonsilitis', 'amebiasis', 'mucocutaneous_leishmaniasis', 'stye', 'bilharziasis', 'Crimea-Congo_hemorrhagic_fever', 'eye_infection', 'variola_vaccinia', 'sapremia', 'vaccinia_gangrenosa', 'VHF', 'furuncle', 'virus_infection', 'sty', 'gall', 'haemorrhagic_fever', 'Aleppo_boil', 'sore', 'amebiosis', 'variola_vaccine', 'sapraemia', 'respiratory_infection', 'American_leishmaniasis', 'variola_vaccina', 'Argentine_hemorrhagic_fever', 'leishmaniasis_americana', 'pernio', 'viral_pneumonia', 'tropical_sore', 'kibe', 'felon', 'leishmaniasis', 'upper_respiratory_infection', 'amoebiosis', 'progressive_vaccinia', 'chilblain', 'blood_poisoning']\n",
            "virus ['onion_yellow-dwarf_virus', 'herpes_simplex_2', 'filovirus', 'vector', 'polyoma', 'typhoid_bacteriophage', 'West_Nile_encephalitis_virus', 'Epstein-Barr_virus', 'West_Nile_virus', 'herpes_zoster_virus', 'parvovirus', 'arborvirus', 'wound_tumor_virus', 'respiratory_syncytial_virus', 'Togaviridae', 'Lassa_virus', 'poliovirus', 'rhinovirus', 'slow_virus', 'HIV', 'tobacco_mosaic_virus', 'herpes', 'HSV-2', 'orthomyxovirus', 'variola_virus', 'tumor_virus', 'herpes_simplex', 'picornavirus', 'human_papilloma_virus', 'retrovirus', 'echovirus', 'potato_yellow-dwarf_virus', 'viroid', 'papovavirus', 'flavivirus', 'varicella_zoster_virus', 'cosmid', 'hepatitis_A_virus', 'bunyavirus', 'rhabdovirus', 'myxovirus', 'plant_virus', 'arbovirus', 'herpes_simplex_1', 'herpes_zoster', 'HSV-II', 'herpes_varicella_zoster', 'adenovirus', 'variola_major_virus', 'HSV-I', 'bacteriophage', 'smallpox_virus', 'animal_virus', 'Coxsackie_virus', 'arenavirus', 'human_T-cell_leukemia_virus-1', 'coxsackievirus', 'variola_major', 'alphavirus', 'lyssavirus', 'phage', 'herpes_virus', 'HTLV-1', 'rotavirus', 'Ebola_virus', 'Machupo_virus', 'EBV', 'hepadnavirus', 'reovirus', 'Reoviridae', 'poxvirus', 'TMV', 'CMV', 'herpes_simplex_virus', 'variola_minor_virus', 'lymphocytic_choriomeningitis_virus', 'Flaviviridae', 'HS1', 'herpes_varicella_zoster_virus', 'myxoma_virus', 'Rhabdoviridae', 'polyoma_virus', 'Marburg_virus', 'virusoid', 'vesiculovirus', 'HS2', 'cytomegalovirus', 'WTV', 'Bunyaviridae', 'parvo', 'HSV-1', 'enterovirus', 'variola_minor', 'human_immunodeficiency_virus', 'paramyxovirus', 'coliphage', 'Junin_virus', 'Arenaviridae', 'parainfluenza_virus']\n",
            "physician ['hakeem', 'accoucheur', 'family_doctor', 'cardiologist', 'house_physician', 'diagnostician', 'anesthetist', 'medical_extern', 'GP', 'perinatologist', 'obstetrician', 'otologist', 'haematologist', 'diplomate', 'veterinary', 'interne', 'podiatrist', 'vet', 'orthopedist', 'abortionist', 'veterinary_surgeon', 'gynaecologist', 'endocrinologist', 'general_practitioner', 'pathologist', 'sawbones', 'otorhinolaryngologist', 'gynecologist', 'ear-nose-and-throat_doctor', 'ophthalmologist', 'psychiatrist', 'ENT_man', 'analyst', 'oncologist', 'brain_surgeon', 'neurologist', 'eye_doctor', 'hematologist', 'baby_doctor', 'anaesthetist', 'skin_doctor', 'urologist', 'heart_specialist', 'psychoanalyst', 'ear_specialist', 'anesthesiologist', 'orthoptist', 'hygienist', 'proctologist', 'shrink', 'etiologist', 'cosmetic_surgeon', \"woman's_doctor\", 'orthopaedist', 'chiropodist', 'operating_surgeon', 'quack', 'primary_care_physician', 'dermatologist', 'otolaryngologist', 'horse_doctor', 'allergist', 'resident', 'surgeon', 'head-shrinker', 'country_doctor', 'rhinolaryngologist', 'amputator', 'hakim', 'intern', 'oculist', 'angiologist', 'gerontologist', 'ear_doctor', 'internist', 'gastroenterologist', 'paediatrician', 'neurosurgeon', 'embryologist', 'medical_intern', 'radiographer', 'radiotherapist', 'brain_doctor', 'foot_doctor', 'resident_physician', 'medical_specialist', 'specialist', 'houseman', 'pediatrician', 'heart_surgeon', 'aetiologist', 'geriatrician', 'radiologist', 'alienist', 'veterinarian', 'rheumatologist', 'plastic_surgeon', 'pediatrist', 'extern']\n",
            "treat ['sugarplum', 'Life_Saver', 'marshmallow', 'grape_jelly', 'chewing_gum', 'crystallized_fruit', 'choice_morsel', 'lemon_peel', 'Jell-O', 'meringue_kiss', 'preserves', 'aspic', 'candied_citrus_peel', 'taffy_apple', 'chocolate_egg', 'mint_candy', 'comfit', 'peppermint', 'lemon_drop', 'orange_marmalade', 'barley_candy', 'brittle', 'conserves', 'crystallized_ginger', 'lemon_curd', 'gum', 'conserve', 'caramel', 'jam', 'apple_jelly', 'candy_bar', 'barley-sugar', 'candy_apple', 'confect', 'divinity_fudge', 'gumdrop', 'bubble_gum', 'carob_bar', 'rock', 'gum_ball', 'titbit', 'toffee_apple', 'confectionery', 'molasses_kiss', 'jelly_egg', 'sourball', 'nectar', 'marchpane', 'candied_fruit', 'cotton_candy', 'cough_drop', 'apple_butter', 'Easter_egg', 'fondant', 'panoche', 'peanut_bar', 'maraschino_cherry', 'marrow', 'tidbit', 'hard_candy', 'candy_cane', 'bonbon', 'nut_bar', 'caramel_apple', 'toffy', 'penoche', 'chocolate_truffle', 'jawbreaker', 'center', 'troche', 'peppermint_candy', 'preserve', 'panocha', 'chowchow', 'strawberry_jam', 'dragee', 'sweet', 'fudge', 'nonpareil', 'peanut_brittle', 'gelatin_dessert', 'candy', 'confiture', 'patty', 'centre', 'candy_corn', 'crabapple_jelly', 'marzipan', 'sugar_candy', 'butterscotch', 'lollipop', 'nougat', 'marmalade', 'kiss', 'all-day_sucker', 'truffle', 'succade', 'pastil', 'chocolate_fudge', 'lozenge', 'gelatin', 'savory', 'molasses_taffy', 'peppermint_patty', 'licorice', 'penuche', 'toffee', 'orange_peel', 'brandyball', 'mint', 'cachou', 'chocolate_kiss', 'jelly', 'candy_egg', 'savoury', 'confection', 'pastille', 'hardbake', 'candy_kiss', 'nougat_bar', 'Turkish_Delight', 'Scotch_kiss', 'liquorice', 'maraschino', 'jello', 'rock_candy', 'horehound', 'divinity', 'taffy', 'sucker', 'jujube', 'strawberry_preserves', 'praline', 'ambrosia', 'candyfloss', 'jelly_bean', 'sweetmeat', 'popcorn_ball', 'grapefruit_peel', 'spun_sugar', 'candied_apple', \"calf's-foot_jelly\", 'honey_crisp', 'bone_marrow', 'lemon_cheese']\n",
            "mean ['expectation', 'first_moment', 'expected_value', 'harmonic_mean', 'geometric_mean', 'arithmetic_mean']\n",
            "prevention ['suspension', 'recusation', 'forestalling', 'suppression', 'averting', 'disqualification', 'interception', 'crackdown', 'debarment', 'obviation', 'non-proliferation', 'stifling', 'prophylaxis', 'save', 'nonproliferation', 'recusal', 'preclusion', 'rustication', 'crushing', 'quelling', 'temporary_removal']\n",
            "treatment ['family_therapy', 'galvanism', 'megavitamin_therapy', 'Swedish_massage', 'insulin_shock_therapy', 'diathermy', 'bandaging', 'orthodontic_treatment', 'nursing_care', 'holistic_medicine', 'group_therapy', 'self-analysis', 'anticoagulation', 'radiation_therapy', 'occupational_therapy', 'hospice', 'crisis_intervention', 'naturopathy', 'aversion_therapy', 'naprapathy', 'autogenics', 'binding', 'high_colonic', 'medication', 'EMDA', 'depth_psychology', 'electroshock_therapy', 'barium_enema', 'allopathy', 'hydrotherapy', 'tapotement', 'intramuscular_injection', 'eye-drop', 'fusion', 'rehabilitation', 'chlorination', 'primary_care', 'X-ray_therapy', 'play_therapy', 'shiatsu', 'hypnoanalysis', 'subcutaneous_injection', 'insulin_shock', 'osteoclasis', 'desensitisation_technique', 'modality', 'G-Jo', 'hypnotherapy', 'administration', 'physiatrics', 'electroconvulsive_therapy', 'giving_medication', 'correction', 'bloodletting', 'herbal_therapy', 'lavage', 'eyedrop', 'exposure_therapy', 'sedation', 'systematic_desensitisation', 'miotic_eyedrop', 'fomentation', 'cardiac_massage', 'hydropathy', 'chiropractic', 'fix', 'aftercare', 'adrenergic_agonist_eyedrop', 'chrysotherapy', 'autogenic_therapy', 'ECT', 'infrared_therapy', 'iontotherapy', 'metrazol_shock_therapy', 'inflation_therapy', 'thermotherapy', 'intensive_care', 'reciprocal_inhibition', 'psychoanalysis', 'electroshock', 'enema', 'speech_therapy', 'insulin_shock_treatment', 'implosion_therapy', 'HRT', 'autogenic_training', 'immunotherapy', 'colonic', 'therapy', 'iontophoresis', 'massage', 'antipyresis', 'hospitalisation', 'venesection', 'thrombolytic_therapy', 'irradiation', 'beta_blocker_eyedrop', 'medical_care', 'phytotherapy', 'shock_therapy', 'digitalization', 'metrazol_shock', 'rest-cure', 'rubdown', 'desensitisation_procedure', 'shock_treatment', 'electrotherapy', 'desensitization_technique', 'behavior_therapy', 'physical_therapy', 'intradermal_injection', 'injection', 'intravenous_injection', 'behavior_modification', 'osteopathy', 'electromotive_drug_administration', 'gastric_lavage', 'hospital_care', 'refrigeration', 'group_psychotherapy', 'actinotherapy', 'analysis', 'irrigation', 'chemotherapy', 'reciprocal-inhibition_therapy', 'cupping', 'electrical_healing', 'drugging', 'insolation', 'physiotherapy', 'client-centered_therapy', 'clyster', 'botanical_medicine', 'petrissage', 'radiation', 'flooding', 'colonic_irrigation', 'phototherapy', 'defibrillation', 'desensitization_procedure', 'digitalisation', 'metrazol_shock_treatment', 'detoxification', 'phlebotomy', 'heart_massage', 'psychotherapy', 'acupuncture', 'reflexology', 'acupressure', 'aromatherapy', 'orthoptics', 'shot', 'heliotherapy', 'radiotherapy', 'topical_prostaglandin_eyedrop', 'hormone-replacement_therapy', 'systematic_desensitization', 'stylostixis', 'spinal_fusion', 'medical_aid', 'token_economy', 'radium_therapy', 'effleurage', 'hospitalization', 'hormone_replacement_therapy', 'Curietherapy', 'homoeopathy', 'electric_healing', 'douche', 'ionic_medication', 'disinfection', 'assertiveness_training', 'drip_feed', 'homeopathy', 'dressing']\n",
            "hospital ['lazaret', 'pesthouse', \"cuckoo's_nest\", 'mental_hospital', 'loony_bin', 'lazarette', 'booby_hatch', 'sanitarium', 'creche', 'foundling_hospital', 'nut_house', 'psychiatric_hospital', 'lazaretto', 'mental_institution', 'madhouse', 'lazar_house', 'crazy_house', 'mental_home', 'funny_farm', 'nuthouse', 'field_hospital', 'sanatarium', 'asylum', 'snake_pit', 'sanatorium', 'funny_house', 'Bedlam', 'maternity_hospital', 'insane_asylum', 'institution', 'military_hospital']\n",
            "b []\n"
          ],
          "name": "stdout"
        }
      ]
    },
    {
      "cell_type": "code",
      "metadata": {
        "id": "83sNE20LiXHy",
        "outputId": "f1ce418e-97e9-4e6f-ef1c-e8b6227ef6db",
        "colab": {
          "base_uri": "https://localhost:8080/",
          "height": 224
        }
      },
      "source": [
        "popped = [\"avoid\"]\n",
        "\n",
        "from nltk.corpus import wordnet as wn\n",
        "\n",
        "\n",
        "for st in most_imp:\n",
        "  vehicle = wn.synset(st[0] + '.n.01')\n",
        "  hyp = list(set([w for s in vehicle.closure(lambda s:s.hypernyms()) for w in s.lemma_names()]))\n",
        "  print(st[0], hyp)\n",
        "\n",
        "for st in popped:\n",
        "  vehicle = wn.synset(st + '.v.01')\n",
        "  hyp = list(set([w for s in vehicle.closure(lambda s:s.hypernyms()) for w in s.lemma_names()]))\n",
        "  print(st[0], hyp)"
      ],
      "execution_count": null,
      "outputs": [
        {
          "output_type": "stream",
          "text": [
            "antibiotic ['matter', 'medication', 'medicament', 'entity', 'medicine', 'substance', 'physical_entity', 'antibacterial_drug', 'medicinal_drug', 'drug', 'agent', 'antibacterial', 'causal_agency', 'cause', 'bactericide', 'causal_agent']\n",
            "work ['human_action', 'entity', 'abstraction', 'event', 'deed', 'psychological_feature', 'human_activity', 'act', 'activity', 'abstract_entity']\n",
            "infection ['condition', 'physical_condition', 'entity', 'unhealthiness', 'status', 'ill_health', 'pathological_state', 'abstraction', 'physiological_condition', 'state', 'health_problem', 'attribute', 'physiological_state', 'abstract_entity']\n",
            "virus ['micro-organism', 'entity', 'being', 'organism', 'living_thing', 'infectious_agent', 'animate_thing', 'agent', 'physical_entity', 'physical_object', 'cause', 'object', 'infective_agent', 'whole', 'causal_agency', 'microorganism', 'unit', 'causal_agent']\n",
            "physician ['adult', 'being', 'organism', 'primary_care_provider', 'animate_thing', 'object', 'whole', 'soul', 'grownup', 'professional', 'physical_entity', 'somebody', 'someone', 'person', 'causal_agent', 'living_thing', 'caregiver', 'health_professional', 'health_care_provider', 'medical_practitioner', 'mortal', 'professional_person', 'cause', 'physical_object', 'entity', 'PCP', 'individual', 'medical_man', 'causal_agency', 'unit']\n",
            "treat ['matter', 'victuals', 'entity', 'substance', 'nutrition', 'aliment', 'food', 'nutrient', 'physical_entity', 'nutriment', 'sustenance', 'nourishment', 'alimentation']\n",
            "mean ['norm', 'cognition', 'entity', 'data_point', 'knowledge', 'information', 'abstraction', 'psychological_feature', 'average', 'statistic', 'datum', 'abstract_entity', 'noesis']\n",
            "prevention ['interference', 'human_action', 'hindrance', 'entity', 'abstraction', 'event', 'deed', 'hinderance', 'human_activity', 'psychological_feature', 'act', 'abstract_entity']\n",
            "treatment ['human_action', 'entity', 'attention', 'abstraction', 'event', 'deed', 'psychological_feature', 'human_activity', 'work', 'tending', 'activity', 'aid', 'act', 'care', 'abstract_entity']\n",
            "hospital ['unit', 'entity', 'health_facility', 'edifice', 'construction', 'artifact', 'physical_entity', 'physical_object', 'medical_building', 'object', 'whole', 'healthcare_facility', 'building', 'artefact', 'structure']\n",
            "a []\n"
          ],
          "name": "stdout"
        }
      ]
    },
    {
      "cell_type": "code",
      "metadata": {
        "id": "woiBwpsYiXrp",
        "outputId": "5eb9c091-bfd0-437b-cd6e-20adc587226c",
        "colab": {
          "base_uri": "https://localhost:8080/",
          "height": 204
        }
      },
      "source": [
        "popped = [\"avoid\"]\n",
        "\n",
        "from nltk.corpus import twordnet as wn\n",
        "\n",
        "for st in most_imp:\n",
        "  vehicle = wn.synset(st[0] + '.n.01')\n",
        "  print(vehicle.part_meronyms())\n",
        "\n",
        "vehicle = wn.synset(popped[0] + '.v.01')\n",
        "\n",
        "print(vehicle.part_meronyms())"
      ],
      "execution_count": null,
      "outputs": [
        {
          "output_type": "stream",
          "text": [
            "[]\n",
            "[]\n",
            "[Synset('incubation.n.02')]\n",
            "[]\n",
            "[]\n",
            "[]\n",
            "[]\n",
            "[]\n",
            "[Synset('remedy.n.02')]\n",
            "[Synset('burn_center.n.01'), Synset('clinic.n.03'), Synset('hospital_room.n.01'), Synset('ward.n.03')]\n",
            "[]\n"
          ],
          "name": "stdout"
        }
      ]
    }
  ]
}